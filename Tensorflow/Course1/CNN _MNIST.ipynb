{
  "nbformat": 4,
  "nbformat_minor": 0,
  "metadata": {
    "colab": {
      "name": "Exercise 3 - Question.ipynb",
      "version": "0.3.2",
      "provenance": [],
      "collapsed_sections": []
    },
    "kernelspec": {
      "name": "python3",
      "display_name": "Python 3"
    },
    "accelerator": "GPU"
  },
  "cells": [
    {
      "metadata": {
        "id": "iQjHqsmTAVLU",
        "colab_type": "text"
      },
      "cell_type": "markdown",
      "source": [
        "## Exercise 3\n",
        "In the videos you looked at how you would improve Fashion MNIST using Convolutions. For your exercise see if you can improve MNIST to 99.8% accuracy or more using only a single convolutional layer and a single MaxPooling 2D. You should stop training once the accuracy goes above this amount. It should happen in less than 20 epochs, so it's ok to hard code the number of epochs for training, but your training must end once it hits the above metric. If it doesn't, then you'll need to redesign your layers.\n",
        "\n",
        "I've started the code for you -- you need to finish it!\n",
        "\n",
        "When 99.8% accuracy has been hit, you should print out the string \"Reached 99.8% accuracy so cancelling training!\"\n"
      ]
    },
    {
      "metadata": {
        "id": "sfQRyaJWAIdg",
        "colab_type": "code",
        "colab": {
          "base_uri": "https://localhost:8080/",
          "height": 663
        },
        "outputId": "8642de2f-1d99-4742-e6df-23682c60dc38"
      },
      "cell_type": "code",
      "source": [
        "import tensorflow as tf\n",
        "\n",
        "# YOUR CODE STARTS HERE\n",
        "\n",
        "class myCallback(tf.keras.callbacks.Callback):\n",
        "  def on_epoch_end(self, epoch, logs={}):\n",
        "    if(logs.get('acc')>=0.998):\n",
        "      print(\"Reached 99.8% accuracy so cancelling training!\")\n",
        "      self.model.stop_training = True\n",
        "\n",
        "# YOUR CODE ENDS HERE\n",
        "\n",
        "mnist = tf.keras.datasets.mnist\n",
        "(training_images, training_labels), (test_images, test_labels) = mnist.load_data()\n",
        "\n",
        "# YOUR CODE STARTS HERE\n",
        "training_images = training_images.reshape(60000, 28, 28, 1) \n",
        "test_images = test_images.reshape(10000, 28, 28, 1)\n",
        "x_train, x_test = training_images /255.0, test_images / 255.0\n",
        "\n",
        "callbacks = myCallback()\n",
        "\n",
        "# YOUR CODE ENDS HERE\n",
        "\n",
        "model = tf.keras.models.Sequential([\n",
        "    # YOUR CODE STARTS HERE\n",
        "    tf.keras.layers.Conv2D(64, (3,3), activation='relu', input_shape=(28, 28, 1)),\n",
        "    tf.keras.layers.MaxPooling2D(2,2),\n",
        "    tf.keras.layers.Conv2D(64, (3,3), activation='relu'),\n",
        "    tf.keras.layers.MaxPooling2D(2,2),\n",
        "    tf.keras.layers.Flatten(),\n",
        "    tf.keras.layers.Dense(128, activation='relu'),\n",
        "    tf.keras.layers.Dense(10, activation='softmax')\n",
        "    # YOUR CODE ENDS HERE\n",
        "])\n",
        "\n",
        "# YOUR CODE STARTS HERE\n",
        "model.compile(optimizer='adam', loss='sparse_categorical_crossentropy', metrics=['accuracy'])\n",
        "model.summary()\n",
        "model.fit(x_train, training_labels, epochs=20)\n",
        "test_loss = model.evaluate(x_test, test_labels)\n",
        "# YOUR CODE ENDS HERE\n",
        "\n"
      ],
      "execution_count": 0,
      "outputs": [
        {
          "output_type": "stream",
          "text": [
            "Downloading data from https://storage.googleapis.com/tensorflow/tf-keras-datasets/mnist.npz\n",
            "11493376/11490434 [==============================] - 0s 0us/step\n",
            "WARNING:tensorflow:From /usr/local/lib/python3.6/dist-packages/tensorflow/python/ops/resource_variable_ops.py:435: colocate_with (from tensorflow.python.framework.ops) is deprecated and will be removed in a future version.\n",
            "Instructions for updating:\n",
            "Colocations handled automatically by placer.\n",
            "_________________________________________________________________\n",
            "Layer (type)                 Output Shape              Param #   \n",
            "=================================================================\n",
            "conv2d (Conv2D)              (None, 26, 26, 64)        640       \n",
            "_________________________________________________________________\n",
            "max_pooling2d (MaxPooling2D) (None, 13, 13, 64)        0         \n",
            "_________________________________________________________________\n",
            "conv2d_1 (Conv2D)            (None, 11, 11, 64)        36928     \n",
            "_________________________________________________________________\n",
            "max_pooling2d_1 (MaxPooling2 (None, 5, 5, 64)          0         \n",
            "_________________________________________________________________\n",
            "flatten (Flatten)            (None, 1600)              0         \n",
            "_________________________________________________________________\n",
            "dense (Dense)                (None, 128)               204928    \n",
            "_________________________________________________________________\n",
            "dense_1 (Dense)              (None, 10)                1290      \n",
            "=================================================================\n",
            "Total params: 243,786\n",
            "Trainable params: 243,786\n",
            "Non-trainable params: 0\n",
            "_________________________________________________________________\n",
            "Epoch 1/20\n",
            "60000/60000 [==============================] - 17s 290us/sample - loss: 0.1197 - acc: 0.9635\n",
            "Epoch 2/20\n",
            "60000/60000 [==============================] - 14s 240us/sample - loss: 0.0408 - acc: 0.9872\n",
            "Epoch 3/20\n",
            "60000/60000 [==============================] - 14s 238us/sample - loss: 0.0267 - acc: 0.9915\n",
            "Epoch 4/20\n",
            "60000/60000 [==============================] - 14s 238us/sample - loss: 0.0204 - acc: 0.9934\n",
            "Epoch 5/20\n",
            "60000/60000 [==============================] - 14s 238us/sample - loss: 0.0154 - acc: 0.9950\n",
            "Epoch 6/20\n",
            " 3168/60000 [>.............................] - ETA: 13s - loss: 0.0144 - acc: 0.9956"
          ],
          "name": "stdout"
        }
      ]
    }
  ]
}