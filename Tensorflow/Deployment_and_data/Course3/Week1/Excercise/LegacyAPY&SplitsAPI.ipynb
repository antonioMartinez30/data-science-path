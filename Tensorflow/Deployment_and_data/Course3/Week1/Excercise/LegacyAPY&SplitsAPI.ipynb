{
  "nbformat": 4,
  "nbformat_minor": 0,
  "metadata": {
    "colab": {
      "name": "LegacyAPY&SplitsAPI.ipynb",
      "provenance": [],
      "collapsed_sections": []
    },
    "kernelspec": {
      "name": "python3",
      "display_name": "Python 3"
    }
  },
  "cells": [
    {
      "cell_type": "markdown",
      "metadata": {
        "id": "LVwC08WvjFSB",
        "colab_type": "text"
      },
      "source": [
        "# TFDS and Rock, Paper, Scissors"
      ]
    },
    {
      "cell_type": "code",
      "metadata": {
        "id": "OCJxejswi94L",
        "colab_type": "code",
        "colab": {}
      },
      "source": [
        "try:\n",
        "  %tensorflow_version 2.x\n",
        "except:\n",
        "  pass"
      ],
      "execution_count": 1,
      "outputs": []
    },
    {
      "cell_type": "code",
      "metadata": {
        "id": "zR5zDSkvmdlQ",
        "colab_type": "code",
        "colab": {
          "base_uri": "https://localhost:8080/",
          "height": 34
        },
        "outputId": "456ca613-e29b-4f1e-da5a-5494c766e1ef"
      },
      "source": [
        "import tensorflow as tf \n",
        "import tensorflow_datasets as tfds\n",
        "\n",
        "print(\"\\u2022 Using TensorFlow Version:\", tf.__version__)"
      ],
      "execution_count": 2,
      "outputs": [
        {
          "output_type": "stream",
          "text": [
            "• Using TensorFlow Version: 2.3.0\n"
          ],
          "name": "stdout"
        }
      ]
    },
    {
      "cell_type": "markdown",
      "metadata": {
        "id": "ZlNCQ_1sjEFu",
        "colab_type": "text"
      },
      "source": [
        "## Extract the Rock, Paper, Scissors Dataset"
      ]
    },
    {
      "cell_type": "code",
      "metadata": {
        "id": "pFJs0gOXmtar",
        "colab_type": "code",
        "colab": {
          "base_uri": "https://localhost:8080/",
          "height": 442
        },
        "outputId": "5d1ca775-ac44-478e-99e6-68872deb59be"
      },
      "source": [
        "data, info = tfds.load(name=\"rock_paper_scissors\", with_info=True)\n",
        "print(info)"
      ],
      "execution_count": 5,
      "outputs": [
        {
          "output_type": "stream",
          "text": [
            "tfds.core.DatasetInfo(\n",
            "    name='rock_paper_scissors',\n",
            "    version=3.0.0,\n",
            "    description='Images of hands playing rock, paper, scissor game.',\n",
            "    homepage='http://laurencemoroney.com/rock-paper-scissors-dataset',\n",
            "    features=FeaturesDict({\n",
            "        'image': Image(shape=(300, 300, 3), dtype=tf.uint8),\n",
            "        'label': ClassLabel(shape=(), dtype=tf.int64, num_classes=3),\n",
            "    }),\n",
            "    total_num_examples=2892,\n",
            "    splits={\n",
            "        'test': 372,\n",
            "        'train': 2520,\n",
            "    },\n",
            "    supervised_keys=('image', 'label'),\n",
            "    citation=\"\"\"@ONLINE {rps,\n",
            "    author = \"Laurence Moroney\",\n",
            "    title = \"Rock, Paper, Scissors Dataset\",\n",
            "    month = \"feb\",\n",
            "    year = \"2019\",\n",
            "    url = \"http://laurencemoroney.com/rock-paper-scissors-dataset\"\n",
            "    }\"\"\",\n",
            "    redistribution_info=,\n",
            ")\n",
            "\n"
          ],
          "name": "stdout"
        }
      ]
    },
    {
      "cell_type": "code",
      "metadata": {
        "id": "NsvAj4Krm7qF",
        "colab_type": "code",
        "colab": {
          "base_uri": "https://localhost:8080/",
          "height": 51
        },
        "outputId": "01b1613e-35f3-449b-8ade-e37c74f29607"
      },
      "source": [
        "for keys, splits in info.splits.items():\n",
        "  print(keys,\":\",splits.num_examples) "
      ],
      "execution_count": 15,
      "outputs": [
        {
          "output_type": "stream",
          "text": [
            "test : 372\n",
            "train : 2520\n"
          ],
          "name": "stdout"
        }
      ]
    },
    {
      "cell_type": "markdown",
      "metadata": {
        "id": "QQXHOakJpoHH",
        "colab_type": "text"
      },
      "source": [
        "## Use the New S3 API"
      ]
    },
    {
      "cell_type": "code",
      "metadata": {
        "id": "hCHZJ3V9o2jC",
        "colab_type": "code",
        "colab": {
          "base_uri": "https://localhost:8080/",
          "height": 34
        },
        "outputId": "76e29572-512f-4517-e58b-3a987ec29f8a"
      },
      "source": [
        "rps_builder = tfds.builder(\"rock_paper_scissors:3.*.*\")\n",
        "print(rps_builder.version.implements(tfds.core.Experiment.S3))"
      ],
      "execution_count": 16,
      "outputs": [
        {
          "output_type": "stream",
          "text": [
            "True\n"
          ],
          "name": "stdout"
        }
      ]
    },
    {
      "cell_type": "markdown",
      "metadata": {
        "id": "jKWxvGamqMs7",
        "colab_type": "text"
      },
      "source": [
        "## Create New Datasets with the S3 API"
      ]
    },
    {
      "cell_type": "code",
      "metadata": {
        "id": "HygpT2ego-bS",
        "colab_type": "code",
        "colab": {}
      },
      "source": [
        "small_train = tfds.load(\"rock_paper_scissors:3.*.*\", split='train[:10%]')\n",
        "small_test = tfds.load(\"rock_paper_scissors:3.*.*\", split='test[:10%]')"
      ],
      "execution_count": 17,
      "outputs": []
    },
    {
      "cell_type": "code",
      "metadata": {
        "id": "UMQ01Gv-qyzA",
        "colab_type": "code",
        "colab": {
          "base_uri": "https://localhost:8080/",
          "height": 51
        },
        "outputId": "b885d67a-7f0c-4f1c-946b-410cf5197586"
      },
      "source": [
        "print(len(list(small_train)))\n",
        "print(len(list(small_test)))"
      ],
      "execution_count": 22,
      "outputs": [
        {
          "output_type": "stream",
          "text": [
            "252\n",
            "37\n"
          ],
          "name": "stdout"
        }
      ]
    },
    {
      "cell_type": "code",
      "metadata": {
        "id": "gA_cw2Zqq7er",
        "colab_type": "code",
        "colab": {
          "base_uri": "https://localhost:8080/",
          "height": 68
        },
        "outputId": "f00ab626-150d-42e2-aca4-b3d1aa6002c9"
      },
      "source": [
        "new_train = tfds.load(\"rock_paper_scissors:3.*.*\", split='train[:90%]')\n",
        "print(len(list(new_train)))\n",
        "\n",
        "new_test = tfds.load(\"rock_paper_scissors:3.*.*\", split='test[:90%]')\n",
        "print(len(list(new_test)))\n",
        "\n",
        "validation = tfds.load(\"rock_paper_scissors:3.*.*\", split='train[90%:]+test[90%:]')\n",
        "print(len(list(validation)))"
      ],
      "execution_count": 25,
      "outputs": [
        {
          "output_type": "stream",
          "text": [
            "2268\n",
            "335\n",
            "289\n"
          ],
          "name": "stdout"
        }
      ]
    },
    {
      "cell_type": "code",
      "metadata": {
        "id": "wb7he_RusHre",
        "colab_type": "code",
        "colab": {}
      },
      "source": [
        ""
      ],
      "execution_count": null,
      "outputs": []
    }
  ]
}